{
  "nbformat": 4,
  "nbformat_minor": 0,
  "metadata": {
    "colab": {
      "name": "ozone.ipynb",
      "provenance": [],
      "collapsed_sections": [],
      "include_colab_link": true
    },
    "kernelspec": {
      "name": "python3",
      "display_name": "Python 3"
    },
    "language_info": {
      "name": "python"
    }
  },
  "cells": [
    {
      "cell_type": "markdown",
      "metadata": {
        "id": "view-in-github",
        "colab_type": "text"
      },
      "source": [
        "<a href=\"https://colab.research.google.com/github/sichan0107/Data_Analysis/blob/master/ozone.ipynb\" target=\"_parent\"><img src=\"https://colab.research.google.com/assets/colab-badge.svg\" alt=\"Open In Colab\"/></a>"
      ]
    },
    {
      "cell_type": "code",
      "source": [
        "from google.colab import files\n",
        "uploaded = files.upload()"
      ],
      "metadata": {
        "colab": {
          "resources": {
            "http://localhost:8080/nbextensions/google.colab/files.js": {
              "data": "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",
              "ok": true,
              "headers": [
                [
                  "content-type",
                  "application/javascript"
                ]
              ],
              "status": 200,
              "status_text": ""
            }
          },
          "base_uri": "https://localhost:8080/",
          "height": 112
        },
        "id": "a7z-3EawWwQz",
        "outputId": "6f1989ca-47d2-4edd-eca3-b56d37e1ac62"
      },
      "execution_count": 25,
      "outputs": [
        {
          "output_type": "display_data",
          "data": {
            "text/plain": [
              "<IPython.core.display.HTML object>"
            ],
            "text/html": [
              "\n",
              "     <input type=\"file\" id=\"files-1ec04235-a788-4db8-b63e-c29d6210474c\" name=\"files[]\" multiple disabled\n",
              "        style=\"border:none\" />\n",
              "     <output id=\"result-1ec04235-a788-4db8-b63e-c29d6210474c\">\n",
              "      Upload widget is only available when the cell has been executed in the\n",
              "      current browser session. Please rerun this cell to enable.\n",
              "      </output>\n",
              "      <script src=\"/nbextensions/google.colab/files.js\"></script> "
            ]
          },
          "metadata": {}
        },
        {
          "output_type": "stream",
          "name": "stdout",
          "text": [
            "Saving 2019VOCsNOx.csv to 2019VOCsNOx.csv\n",
            "Saving 2020VOCsNOx.csv to 2020VOCsNOx.csv\n"
          ]
        }
      ]
    },
    {
      "cell_type": "code",
      "execution_count": 27,
      "metadata": {
        "id": "dgC-vryI9raO"
      },
      "outputs": [],
      "source": [
        "# 데이터 불러오기 \n",
        "import io\n",
        "import pandas as pd\n",
        "\n",
        "#df_air_2019 = pd.read_csv(io.StringIO(uploaded['2019VOCsNOx.csv'].decode('utf-8')))\n",
        "df_vocs_2019 = pd.read_csv(io.StringIO(uploaded['2019VOCsNOx.csv'].decode('utf-8')))\n",
        "\n",
        "#df_air_2020 = pd.read_csv(io.StringIO(uploaded['airquality_2020.csv'].decode('utf-8')))\n",
        "df_vocs_2020 = pd.read_csv(io.StringIO(uploaded['2020VOCsNOx.csv'].decode('utf-8')))\n",
        "\n",
        "\n",
        "# df_air = pd.read_csv(uploaded['airquality_2012.csv'])\n",
        "# df_vocs = pd.read_csv(uploaded['VOC2019.csv'])"
      ]
    },
    {
      "cell_type": "code",
      "source": [
        "print(df_vocs_2019)\n",
        "print('==========================')\n",
        "print(df_vocs_2020)"
      ],
      "metadata": {
        "colab": {
          "base_uri": "https://localhost:8080/"
        },
        "id": "kbm5_3ZsXReI",
        "outputId": "a7400765-f5a6-46fe-f523-3f9324cdc643"
      },
      "execution_count": 28,
      "outputs": [
        {
          "output_type": "stream",
          "name": "stdout",
          "text": [
            "     월  O3(ppm)  Nox(ppb)  VOCx(ppb)\n",
            "0    1    0.012     0.075       32.9\n",
            "1    2    0.018     0.057       34.1\n",
            "2    3    0.028     0.045       32.0\n",
            "3    4    0.029     0.039       25.9\n",
            "4    5    0.043     0.033       26.8\n",
            "5    6    0.039     0.025       20.6\n",
            "6    7    0.031     0.023       20.3\n",
            "7    8    0.030     0.024       25.7\n",
            "8    9    0.024     0.028       32.2\n",
            "9   10    0.021     0.036       32.3\n",
            "10  11    0.013     0.063       41.7\n",
            "11  12    0.011     0.062       35.3\n",
            "==========================\n",
            "     월  O3(ppm)  Nox(ppb)  VOCx(ppb)\n",
            "0    1    0.014     0.056       38.2\n",
            "1    2    0.018     0.050       33.3\n",
            "2    3    0.027     0.037       26.1\n",
            "3    4    0.036     0.025       18.8\n",
            "4    5    0.034     0.024       20.0\n",
            "5    6    0.044     0.023       20.3\n",
            "6    7    0.031     0.020       19.2\n",
            "7    8    0.019     0.020       18.8\n",
            "8    9    0.028     0.020       18.3\n",
            "9   10    0.022     0.036       26.0\n",
            "10  11    0.015     0.049       34.0\n",
            "11  12    0.014     0.054       32.2\n"
          ]
        }
      ]
    },
    {
      "cell_type": "code",
      "source": [
        "from sklearn.model_selection import train_test_split\n",
        "import numpy as np\n",
        "#x = np.array(df_air[['temp', 'wind', 'hume', 'rain']])\n",
        "#z = np.array(df_vocs[['Nox(ppb)','VOCx(ppb)']])\n",
        "\n",
        "#df_air_2019.dropna(axis=0)\n",
        "#x = df_air[['temp', 'wind', 'hume', 'rain']]\n",
        "\n",
        "\n",
        "#x = df_air[['temp', 'wind', 'rain']]\n",
        "x = df_vocs_2020[['Nox(ppb)','VOCx(ppb)']]\n",
        "\n",
        "\n",
        "x1 = df_vocs_2019[['Nox(ppb)','VOCx(ppb)']]\n",
        "\n",
        "#x = df_air[['temp', 'wind', 'hume', 'rain']] + df_vocs[['Nox(ppb)','VOCx(ppb)']]\n",
        "y = df_vocs_2020[['O3(ppm)']]\n",
        "\n",
        "y1 = df_vocs_2019[['O3(ppm)']]\n",
        "print(x)\n",
        "print('============================')\n",
        "print(y)\n",
        "print('============================')\n",
        "print(x1)\n",
        "print('============================')\n",
        "print(y1)"
      ],
      "metadata": {
        "colab": {
          "base_uri": "https://localhost:8080/"
        },
        "id": "Xb9gZu9nZpvZ",
        "outputId": "898822be-ceff-4868-812f-19fa5ad55709"
      },
      "execution_count": 54,
      "outputs": [
        {
          "output_type": "stream",
          "name": "stdout",
          "text": [
            "    Nox(ppb)  VOCx(ppb)\n",
            "0      0.056       38.2\n",
            "1      0.050       33.3\n",
            "2      0.037       26.1\n",
            "3      0.025       18.8\n",
            "4      0.024       20.0\n",
            "5      0.023       20.3\n",
            "6      0.020       19.2\n",
            "7      0.020       18.8\n",
            "8      0.020       18.3\n",
            "9      0.036       26.0\n",
            "10     0.049       34.0\n",
            "11     0.054       32.2\n",
            "============================\n",
            "    O3(ppm)\n",
            "0     0.014\n",
            "1     0.018\n",
            "2     0.027\n",
            "3     0.036\n",
            "4     0.034\n",
            "5     0.044\n",
            "6     0.031\n",
            "7     0.019\n",
            "8     0.028\n",
            "9     0.022\n",
            "10    0.015\n",
            "11    0.014\n",
            "============================\n",
            "    Nox(ppb)  VOCx(ppb)\n",
            "0      0.075       32.9\n",
            "1      0.057       34.1\n",
            "2      0.045       32.0\n",
            "3      0.039       25.9\n",
            "4      0.033       26.8\n",
            "5      0.025       20.6\n",
            "6      0.023       20.3\n",
            "7      0.024       25.7\n",
            "8      0.028       32.2\n",
            "9      0.036       32.3\n",
            "10     0.063       41.7\n",
            "11     0.062       35.3\n",
            "============================\n",
            "    O3(ppm)\n",
            "0     0.012\n",
            "1     0.018\n",
            "2     0.028\n",
            "3     0.029\n",
            "4     0.043\n",
            "5     0.039\n",
            "6     0.031\n",
            "7     0.030\n",
            "8     0.024\n",
            "9     0.021\n",
            "10    0.013\n",
            "11    0.011\n"
          ]
        }
      ]
    },
    {
      "cell_type": "code",
      "source": [
        "# 데이터 분리하기 (정확도를 위해 학습 데이터, 시험 데이터를 8:2로 분리)\n",
        "\n",
        "from sklearn.model_selection import train_test_split\n",
        "\n",
        "x_train, x_test, y_train, y_test = train_test_split(x, y, train_size=0.8, test_size=0.2, random_state=11)\n",
        "\n",
        "x1_train, x1_test, y1_train, y1_test = train_test_split(x1, y1, train_size=0.8, test_size=0.2 , random_state=11)"
      ],
      "metadata": {
        "id": "uzPGUA5F-QEi"
      },
      "execution_count": 65,
      "outputs": []
    },
    {
      "cell_type": "code",
      "source": [
        "# 학습데이터를 가지고 선형회귀분석 모델 구현 \n",
        "\n",
        "from sklearn.linear_model import LinearRegression\n",
        "mlr = LinearRegression()\n",
        "mlr.fit(x_train, y_train)\n",
        "\n",
        "mlr1 = LinearRegression()\n",
        "mlr1.fit(x1_train, y1_train)"
      ],
      "metadata": {
        "colab": {
          "base_uri": "https://localhost:8080/"
        },
        "id": "AhkbH7AM-QMI",
        "outputId": "2d05d95e-888c-4d20-a806-dca86e722f10"
      },
      "execution_count": 66,
      "outputs": [
        {
          "output_type": "execute_result",
          "data": {
            "text/plain": [
              "LinearRegression()"
            ]
          },
          "metadata": {},
          "execution_count": 66
        }
      ]
    },
    {
      "cell_type": "code",
      "source": [
        "# 위에서 테스트 데이터로 예측했던 정보를 시험 데이터와 비교하기 위해 y_predict 변수 선언\n",
        "y_predict = mlr.predict(x_test)\n",
        "\n",
        "y1_predict = mlr.predict(x1_test)\n",
        "\n",
        "print(mlr.score(x_train, y_train)) # 학습 모델의 정확도 출력 -> 0.xx로 나오면 xx% 로 읽음"
      ],
      "metadata": {
        "colab": {
          "base_uri": "https://localhost:8080/"
        },
        "id": "UeO8WlYT-QYO",
        "outputId": "6592a60e-0c60-4357-a16e-09d63ccb7ac0"
      },
      "execution_count": 67,
      "outputs": [
        {
          "output_type": "stream",
          "name": "stdout",
          "text": [
            "0.5417717146384272\n"
          ]
        }
      ]
    },
    {
      "cell_type": "code",
      "source": [
        "# 선형회귀의 결과를 시각화 그래프로 표현\n",
        "# X축은 실제 데이터, Y축은 선형회귀로 예측한 데이터이다.\n",
        "# 두 결과가 같다면 한 줄의 선으로 그려진다.\n",
        "\n",
        "import matplotlib.pyplot as plt\n",
        "#print(y_test.shape)\n",
        "#print(np.ravel(y_test))\n",
        "#print(y_predict)\n",
        "\n",
        "flat_test = np.ravel(y_test)\n",
        "flat_predict = np.ravel(y_predict)\n",
        "\n",
        "flat_test1 = np.ravel(y1_test)\n",
        "flat_predict1 = np.ravel(y1_predict)\n",
        "\n",
        "fit_line = np.polyfit(flat_test, flat_predict, 1)\n",
        "x_minmax = np.array([min(flat_test), max(flat_test)]) # x축 최소값, 최대값\n",
        "\n",
        "fit_y = x_minmax * fit_line[0] + fit_line[1] # x축 최소, 최대값을 회귀식에 대입한 값\n",
        "\n",
        "\n",
        "####\n",
        "fit_line1 = np.polyfit(flat_test1, flat_predict1, 1)\n",
        "x_minmax1 = np.array([min(flat_test1), max(flat_test1)]) # x축 최소값, 최대값\n",
        "\n",
        "fit_y1 = x_minmax1 * fit_line1[0] + fit_line1[1] # x축 최소, 최대값을 회귀식에 대입한 값\n",
        "\n",
        "\n",
        "\n",
        "\n",
        "#plt.plot(y_test, y_predict, color=\"green\")\n",
        "plt.scatter(y_test, y_predict, alpha=0.4)\n",
        "plt.scatter(y1_test, y1_predict, alpha=0.4)\n",
        "plt.plot(x_minmax, fit_y, color = 'orange')\n",
        "plt.plot(x_minmax1, fit_y1, color = 'blue')\n",
        "plt.legend(['2020', '2019'])\n",
        "plt.xlabel(\"Real Data\")\n",
        "plt.ylabel(\"Predicted Data\")\n",
        "plt.title(\"2020  Nox-VOCx Linear Graph\")\n",
        "plt.show()"
      ],
      "metadata": {
        "colab": {
          "base_uri": "https://localhost:8080/",
          "height": 295
        },
        "id": "oo9DDiNN-lvs",
        "outputId": "f9aac291-1a32-4d67-8e9e-1bcd9f158f91"
      },
      "execution_count": 68,
      "outputs": [
        {
          "output_type": "display_data",
          "data": {
            "text/plain": [
              "<Figure size 432x288 with 1 Axes>"
            ],
            "image/png": "[encoded data removed]"
          },
          "metadata": {
            "needs_background": "light"
          }
        }
      ]
    }
  ]
}