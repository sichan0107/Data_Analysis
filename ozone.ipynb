{
  "nbformat": 4,
  "nbformat_minor": 0,
  "metadata": {
    "colab": {
      "name": "ozone.ipynb",
      "provenance": [],
      "collapsed_sections": [],
      "include_colab_link": true
    },
    "kernelspec": {
      "name": "python3",
      "display_name": "Python 3"
    },
    "language_info": {
      "name": "python"
    }
  },
  "cells": [
    {
      "cell_type": "markdown",
      "metadata": {
        "id": "view-in-github",
        "colab_type": "text"
      },
      "source": [
        "<a href=\"https://colab.research.google.com/github/sichan0107/Data_Analysis/blob/master/ozone.ipynb\" target=\"_parent\"><img src=\"https://colab.research.google.com/assets/colab-badge.svg\" alt=\"Open In Colab\"/></a>"
      ]
    },
    {
      "cell_type": "code",
      "source": [
        "from google.colab import files\n",
        "uploaded = files.upload()"
      ],
      "metadata": {
        "colab": {
          "resources": {
            "http://localhost:8080/nbextensions/google.colab/files.js": {
              "data": "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",
              "ok": true,
              "headers": [
                [
                  "content-type",
                  "application/javascript"
                ]
              ],
              "status": 200,
              "status_text": ""
            }
          },
          "base_uri": "https://localhost:8080/",
          "height": 112
        },
        "id": "a7z-3EawWwQz",
        "outputId": "a7c77a5a-dbdd-47f4-de86-b42178222ce4"
      },
      "execution_count": 2,
      "outputs": [
        {
          "output_type": "display_data",
          "data": {
            "text/plain": [
              "<IPython.core.display.HTML object>"
            ],
            "text/html": [
              "\n",
              "     <input type=\"file\" id=\"files-b21b9d3a-8ee7-4813-bdb4-89891cb6f487\" name=\"files[]\" multiple disabled\n",
              "        style=\"border:none\" />\n",
              "     <output id=\"result-b21b9d3a-8ee7-4813-bdb4-89891cb6f487\">\n",
              "      Upload widget is only available when the cell has been executed in the\n",
              "      current browser session. Please rerun this cell to enable.\n",
              "      </output>\n",
              "      <script src=\"/nbextensions/google.colab/files.js\"></script> "
            ]
          },
          "metadata": {}
        },
        {
          "output_type": "stream",
          "name": "stdout",
          "text": [
            "Saving 2019.csv to 2019 (1).csv\n",
            "Saving climate_2019.csv to climate_2019.csv\n"
          ]
        }
      ]
    },
    {
      "cell_type": "code",
      "execution_count": 3,
      "metadata": {
        "id": "dgC-vryI9raO"
      },
      "outputs": [],
      "source": [
        "# 데이터 불러오기 \n",
        "import io\n",
        "import pandas as pd\n",
        "\n",
        "# 2019년도 오존, 녹스, 복스 불러오기\n",
        "df_vocs_2019 = pd.read_csv(io.StringIO(uploaded['2019.csv'].decode('utf-8')))\n",
        "\n",
        "#df_climate_2020 = pd.read_csv(io.StringIO(uploaded['climate_2019.csv'].decode('utf-8')))"
      ]
    },
    {
      "cell_type": "code",
      "source": [
        "# 불러온 데이터 확인해보기\n",
        "print(df_vocs_2019)"
      ],
      "metadata": {
        "colab": {
          "base_uri": "https://localhost:8080/"
        },
        "id": "kbm5_3ZsXReI",
        "outputId": "2bd1175a-a4e4-4045-c91f-6285d061a2f1"
      },
      "execution_count": 4,
      "outputs": [
        {
          "output_type": "stream",
          "name": "stdout",
          "text": [
            "       O3    Nox   VOCs\n",
            "0   0.014  0.075  29.09\n",
            "1   0.013  0.072  15.22\n",
            "2   0.012  0.081  65.23\n",
            "3   0.032  0.055  28.18\n",
            "4   0.029  0.059  62.95\n",
            "5   0.027  0.071  36.59\n",
            "6   0.031  0.076  32.50\n",
            "7   0.048  0.085  16.14\n",
            "8   0.041  0.078  11.14\n",
            "9   0.044  0.074  23.86\n",
            "10  0.049  0.083  15.45\n",
            "11  0.035  0.068  10.91\n",
            "12  0.032  0.075  27.95\n",
            "13  0.032  0.083  17.95\n",
            "14  0.031  0.085  32.95\n",
            "15  0.027  0.069  15.68\n",
            "16  0.026  0.025  32.72\n",
            "17  0.028  0.029  38.41\n",
            "18  0.028  0.028  42.04\n",
            "19  0.027  0.022  47.04\n",
            "20  0.028  0.017  30.00\n",
            "21  0.013  0.064  22.50\n",
            "22  0.011  0.060  52.27\n",
            "23  0.013  0.057  45.22\n",
            "==========================\n",
            "    temp  rain   wa   wd  hume  sun\n",
            "0   -5.9   NaN  1.8  270    56  NaN\n",
            "1   -6.5   NaN  1.2  290    60  NaN\n",
            "2   -6.9   NaN  2.2  270    62  NaN\n",
            "3   -7.0   NaN  0.9  290    50  0.0\n",
            "4   -4.9   NaN  1.6  290    44  0.6\n",
            "5   -1.8   NaN  2.2  290    48  1.0\n",
            "6    1.5   NaN  1.0  230    74  NaN\n",
            "7    1.4   NaN  1.2  270    75  NaN\n",
            "8    4.1   NaN  2.7  270    62  1.0\n",
            "9    4.8   NaN  3.9  290    40  1.0\n",
            "10   5.9   NaN  3.3  290    26  1.0\n",
            "11   9.2   NaN  2.6  200    52  0.0\n",
            "12   9.1   NaN  2.1  250    52  0.0\n",
            "13   8.7   NaN  1.6  230    52  0.0\n",
            "14  14.2   NaN  3.1  320    42  0.6\n",
            "15  16.0   NaN  1.1  160    43  0.0\n",
            "16  15.8   NaN  1.2   20    45  0.0\n",
            "17  19.4   NaN  3.4  270    14  1.0\n",
            "18  18.2   NaN  3.0  250    27  1.0\n",
            "19  21.7   NaN  1.8  160    32  1.0\n",
            "20  23.5   NaN  1.9  180    30  1.0\n",
            "21  26.0   NaN  3.2  230    29  1.0\n",
            "22  27.8   NaN  2.5  160    33  0.0\n",
            "23  28.0   NaN  1.0  340    33  0.0\n"
          ]
        }
      ]
    },
    {
      "cell_type": "code",
      "source": [
        "from sklearn.model_selection import train_test_split\n",
        "import numpy as np\n",
        "\n",
        "#  x라는 변수에  녹스 복스 데이터 넣기\n",
        "x = df_vocs_2019[['Nox', 'VOCs']]\n",
        "\n",
        "# y라는 변수에 오존데이터 넣기\n",
        "y = df_vocs_2019[['O3']]\n",
        "\n",
        "# 나눈 데이터 확인해보기\n",
        "print(x)\n",
        "print('============================')\n",
        "print(y)\n",
        "print('============================')\n"
      ],
      "metadata": {
        "colab": {
          "base_uri": "https://localhost:8080/"
        },
        "id": "Xb9gZu9nZpvZ",
        "outputId": "d05282c7-5ec8-4285-fa96-a3d54841fa6b"
      },
      "execution_count": 6,
      "outputs": [
        {
          "output_type": "stream",
          "name": "stdout",
          "text": [
            "     VOCs\n",
            "0   29.09\n",
            "1   15.22\n",
            "2   65.23\n",
            "3   28.18\n",
            "4   62.95\n",
            "5   36.59\n",
            "6   32.50\n",
            "7   16.14\n",
            "8   11.14\n",
            "9   23.86\n",
            "10  15.45\n",
            "11  10.91\n",
            "12  27.95\n",
            "13  17.95\n",
            "14  32.95\n",
            "15  15.68\n",
            "16  32.72\n",
            "17  38.41\n",
            "18  42.04\n",
            "19  47.04\n",
            "20  30.00\n",
            "21  22.50\n",
            "22  52.27\n",
            "23  45.22\n",
            "============================\n",
            "       O3\n",
            "0   0.014\n",
            "1   0.013\n",
            "2   0.012\n",
            "3   0.032\n",
            "4   0.029\n",
            "5   0.027\n",
            "6   0.031\n",
            "7   0.048\n",
            "8   0.041\n",
            "9   0.044\n",
            "10  0.049\n",
            "11  0.035\n",
            "12  0.032\n",
            "13  0.032\n",
            "14  0.031\n",
            "15  0.027\n",
            "16  0.026\n",
            "17  0.028\n",
            "18  0.028\n",
            "19  0.027\n",
            "20  0.028\n",
            "21  0.013\n",
            "22  0.011\n",
            "23  0.013\n",
            "============================\n"
          ]
        }
      ]
    },
    {
      "cell_type": "code",
      "source": [
        "# 데이터 분리하기 (정확도를 위해 학습 데이터, 시험 데이터를 8:2로 분리)\n",
        "\n",
        "from sklearn.model_selection import train_test_split\n",
        "# 학습데이터란? 머신러닝 모델 중 선형회귀모델에 학습시킬 데이터. train이 붙은건 학습, test는 학습된걸 바탕으로 실험할 데이터\n",
        "# x_train = Nox,  Vocs\n",
        "# y_train = O3\n",
        "\n",
        "# 주어진 데이터에서 학습데이터 : 실험데이터를 8:2로 나눔. random_state는 무작위로 섞기 위한 값임.\n",
        "x_train, x_test, y_train, y_test = train_test_split(x, y, train_size=0.8, test_size=0.2, random_state=11)\n",
        "\n",
        "#x1_train, x1_test, y1_train, y1_test = train_test_split(x1, y1, train_size=0.8, test_size=0.2 , random_state=11)"
      ],
      "metadata": {
        "id": "uzPGUA5F-QEi"
      },
      "execution_count": 7,
      "outputs": []
    },
    {
      "cell_type": "code",
      "source": [
        "# 학습데이터를 가지고 선형회귀분석 모델 구현 \n",
        "\n",
        "from sklearn.linear_model import LinearRegression\n",
        "mlr = LinearRegression()\n",
        "mlr.fit(x_train, y_train) # 회귀모델에 복스,  녹스, 오존을 학습시킨다\n",
        "\n",
        "#mlr1 = LinearRegression()\n",
        "#mlr1.fit(x1_train, y1_train)"
      ],
      "metadata": {
        "colab": {
          "base_uri": "https://localhost:8080/"
        },
        "id": "AhkbH7AM-QMI",
        "outputId": "0c63629a-d610-4776-916d-a5f223a8695a"
      },
      "execution_count": 8,
      "outputs": [
        {
          "output_type": "execute_result",
          "data": {
            "text/plain": [
              "LinearRegression()"
            ]
          },
          "metadata": {},
          "execution_count": 8
        }
      ]
    },
    {
      "cell_type": "code",
      "source": [
        "# 위에서 테스트 데이터로 예측했던 정보를 시험 데이터와 비교하기 위해 y_predict 변수 선언\n",
        "y_predict = mlr.predict(x_test)\n",
        "\n",
        "#y1_predict = mlr.predict(x1_test)\n",
        "\n",
        "print(mlr.score(x_train, y_train)) # 학습 모델의 정확도 출력 -> 0.xx로 나오면 xx% 로 읽음"
      ],
      "metadata": {
        "colab": {
          "base_uri": "https://localhost:8080/"
        },
        "id": "UeO8WlYT-QYO",
        "outputId": "4b77dfcc-f83f-42ff-8be9-a993fc3bf9ed"
      },
      "execution_count": 9,
      "outputs": [
        {
          "output_type": "stream",
          "name": "stdout",
          "text": [
            "0.21512744873605993\n"
          ]
        }
      ]
    },
    {
      "cell_type": "code",
      "source": [
        "# 선형회귀의 결과를 시각화 그래프로 표현\n",
        "# X축은 실제 데이터, Y축은 선형회귀로 예측한 데이터이다.\n",
        "# 두 결과가 같다면 한 줄의 선으로 그려진다.\n",
        "\n",
        "import matplotlib.pyplot as plt\n",
        "\n",
        "#  우리가 위에서 나눴던 데이터는 고차원 행렬이므도 2차원 그래프에 표현하려면 좌표가 필요함.\n",
        "#  때문에 n차원 행렬을 1차원 행렬(Vector)로 표현해야함. \n",
        "# flat이 붙은 애들은 각각 오존 실험데이터, 위에서 학습된 선형회귀 모델이  가지고  있는  예측 데이터를 1차원으로  바꾼 변수다.\n",
        "\n",
        "flat_test = np.ravel(y_test)\n",
        "flat_predict = np.ravel(y_predict)\n",
        "\n",
        "\n",
        "# fit_line은 flat_test, flat_predict를 1차원으로 만드는 과정. np.polyfit이 그걸  가능하게 하는 함수다.\n",
        "fit_line = np.polyfit(flat_test, flat_predict, 1)\n",
        "x_minmax = np.array([min(flat_test), max(flat_test)]) # x축(flat_test) 최소값, 최대값\n",
        "fit_y = x_minmax * fit_line[0] + fit_line[1] # x축 최소, 최대값을 회귀식에 대입한 값\n",
        "\n",
        "\n",
        "####\n",
        "#flat_test1 = np.ravel(y1_test)\n",
        "#flat_predict1 = np.ravel(y1_predict)\n",
        "#fit_line1 = np.polyfit(flat_test1, flat_predict1, 1)\n",
        "#x_minmax1 = np.array([min(flat_test1), max(flat_test1)]) # x축 최소값, 최대값\n",
        "#fit_y1 = x_minmax1 * fit_line1[0] + fit_line1[1] # x축 최소, 최대값을 회귀식에 대입한 값\n",
        "\n",
        "\n",
        "#plt.scatter(y1_test, y1_predict, alpha=0.4)\n",
        "#plt.plot(x_minmax1, fit_y1, color = 'blue')\n",
        "\n",
        "\n",
        "plt.scatter(y_test, y_predict, alpha=0.4)   # 주어진 1차원 좌표로 산점도를 그린다.\n",
        "plt.plot(x_minmax, fit_y, color = 'orange') # 방금 계산했던  x축의 최대 최소값과 그걸 회귀식에 대입한 값을 이용해  선을 그린다.\n",
        "plt.xlabel(\"Real Data\")                     # x축은 실제 측정되어 제공되는 데이터\n",
        "plt.ylabel(\"Predicted Data\")                # y축은 선형회귀모델이 학습된걸 바탕으로 Nox,Vocs의  어떤 값이 주어지면 O3는 어떨 것이다를 계산한 값. 만약 실제데이터와 차이가 많다면 엉망진창인 그래프가  나온다.\n",
        "plt.title(\"2020  Nox-VOCx Linear Graph\")\n",
        "plt.show()"
      ],
      "metadata": {
        "colab": {
          "base_uri": "https://localhost:8080/",
          "height": 295
        },
        "id": "oo9DDiNN-lvs",
        "outputId": "d1f4030b-ad12-45fb-d9cb-336c833c9351"
      },
      "execution_count": 10,
      "outputs": [
        {
          "output_type": "display_data",
          "data": {
            "text/plain": [
              "<Figure size 432x288 with 1 Axes>"
            ],
            "image/png": "[encoded data removed]"
          },
          "metadata": {
            "needs_background": "light"
          }
        }
      ]
    },
    {
      "cell_type": "code",
      "source": [
        "import statsmodels.api as sm\n",
        "results = sm.OLS(y_predict, sm.add_constant(y_test)).fit()\n"
      ],
      "metadata": {
        "colab": {
          "base_uri": "https://localhost:8080/"
        },
        "id": "wSLnQfYCYP47",
        "outputId": "1ee1c4e4-04ce-4a37-b30d-b99cc65b1205"
      },
      "execution_count": 11,
      "outputs": [
        {
          "output_type": "stream",
          "name": "stderr",
          "text": [
            "/usr/local/lib/python3.7/dist-packages/statsmodels/tools/_testing.py:19: FutureWarning: pandas.util.testing is deprecated. Use the functions in the public API at pandas.testing instead.\n",
            "  import pandas.util.testing as tm\n",
            "/usr/local/lib/python3.7/dist-packages/statsmodels/tsa/tsatools.py:117: FutureWarning: In a future version of pandas all arguments of concat except for the argument 'objs' will be keyword-only\n",
            "  x = pd.concat(x[::order], 1)\n"
          ]
        }
      ]
    },
    {
      "cell_type": "code",
      "source": [
        "results.summary()"
      ],
      "metadata": {
        "colab": {
          "base_uri": "https://localhost:8080/",
          "height": 488
        },
        "id": "SYK_kkLiYfyI",
        "outputId": "6c69c553-a1d0-4f11-c88a-09b722ef3409"
      },
      "execution_count": 13,
      "outputs": [
        {
          "output_type": "stream",
          "name": "stderr",
          "text": [
            "/usr/local/lib/python3.7/dist-packages/statsmodels/stats/stattools.py:71: ValueWarning: omni_normtest is not valid with less than 8 observations; 5 samples were given.\n",
            "  \"samples were given.\" % int(n), ValueWarning)\n"
          ]
        },
        {
          "output_type": "execute_result",
          "data": {
            "text/plain": [
              "<class 'statsmodels.iolib.summary.Summary'>\n",
              "\"\"\"\n",
              "                            OLS Regression Results                            \n",
              "==============================================================================\n",
              "Dep. Variable:                      y   R-squared:                       0.869\n",
              "Model:                            OLS   Adj. R-squared:                  0.825\n",
              "Method:                 Least Squares   F-statistic:                     19.88\n",
              "Date:                Tue, 24 May 2022   Prob (F-statistic):             0.0210\n",
              "Time:                        09:24:56   Log-Likelihood:                 27.539\n",
              "No. Observations:                   5   AIC:                            -51.08\n",
              "Df Residuals:                       3   BIC:                            -51.86\n",
              "Df Model:                           1                                         \n",
              "Covariance Type:            nonrobust                                         \n",
              "==============================================================================\n",
              "                 coef    std err          t      P>|t|      [0.025      0.975]\n",
              "------------------------------------------------------------------------------\n",
              "const          0.0153      0.003      5.787      0.010       0.007       0.024\n",
              "O3             0.3359      0.075      4.459      0.021       0.096       0.576\n",
              "==============================================================================\n",
              "Omnibus:                          nan   Durbin-Watson:                   1.431\n",
              "Prob(Omnibus):                    nan   Jarque-Bera (JB):                0.208\n",
              "Skew:                          -0.336   Prob(JB):                        0.901\n",
              "Kurtosis:                       2.260   Cond. No.                         133.\n",
              "==============================================================================\n",
              "\n",
              "Warnings:\n",
              "[1] Standard Errors assume that the covariance matrix of the errors is correctly specified.\n",
              "\"\"\""
            ],
            "text/html": [
              "<table class=\"simpletable\">\n",
              "<caption>OLS Regression Results</caption>\n",
              "<tr>\n",
              "  <th>Dep. Variable:</th>            <td>y</td>        <th>  R-squared:         </th> <td>   0.869</td>\n",
              "</tr>\n",
              "<tr>\n",
              "  <th>Model:</th>                   <td>OLS</td>       <th>  Adj. R-squared:    </th> <td>   0.825</td>\n",
              "</tr>\n",
              "<tr>\n",
              "  <th>Method:</th>             <td>Least Squares</td>  <th>  F-statistic:       </th> <td>   19.88</td>\n",
              "</tr>\n",
              "<tr>\n",
              "  <th>Date:</th>             <td>Tue, 24 May 2022</td> <th>  Prob (F-statistic):</th>  <td>0.0210</td> \n",
              "</tr>\n",
              "<tr>\n",
              "  <th>Time:</th>                 <td>09:24:56</td>     <th>  Log-Likelihood:    </th> <td>  27.539</td>\n",
              "</tr>\n",
              "<tr>\n",
              "  <th>No. Observations:</th>      <td>     5</td>      <th>  AIC:               </th> <td>  -51.08</td>\n",
              "</tr>\n",
              "<tr>\n",
              "  <th>Df Residuals:</th>          <td>     3</td>      <th>  BIC:               </th> <td>  -51.86</td>\n",
              "</tr>\n",
              "<tr>\n",
              "  <th>Df Model:</th>              <td>     1</td>      <th>                     </th>     <td> </td>   \n",
              "</tr>\n",
              "<tr>\n",
              "  <th>Covariance Type:</th>      <td>nonrobust</td>    <th>                     </th>     <td> </td>   \n",
              "</tr>\n",
              "</table>\n",
              "<table class=\"simpletable\">\n",
              "<tr>\n",
              "    <td></td>       <th>coef</th>     <th>std err</th>      <th>t</th>      <th>P>|t|</th>  <th>[0.025</th>    <th>0.975]</th>  \n",
              "</tr>\n",
              "<tr>\n",
              "  <th>const</th> <td>    0.0153</td> <td>    0.003</td> <td>    5.787</td> <td> 0.010</td> <td>    0.007</td> <td>    0.024</td>\n",
              "</tr>\n",
              "<tr>\n",
              "  <th>O3</th>    <td>    0.3359</td> <td>    0.075</td> <td>    4.459</td> <td> 0.021</td> <td>    0.096</td> <td>    0.576</td>\n",
              "</tr>\n",
              "</table>\n",
              "<table class=\"simpletable\">\n",
              "<tr>\n",
              "  <th>Omnibus:</th>       <td>   nan</td> <th>  Durbin-Watson:     </th> <td>   1.431</td>\n",
              "</tr>\n",
              "<tr>\n",
              "  <th>Prob(Omnibus):</th> <td>   nan</td> <th>  Jarque-Bera (JB):  </th> <td>   0.208</td>\n",
              "</tr>\n",
              "<tr>\n",
              "  <th>Skew:</th>          <td>-0.336</td> <th>  Prob(JB):          </th> <td>   0.901</td>\n",
              "</tr>\n",
              "<tr>\n",
              "  <th>Kurtosis:</th>      <td> 2.260</td> <th>  Cond. No.          </th> <td>    133.</td>\n",
              "</tr>\n",
              "</table><br/><br/>Warnings:<br/>[1] Standard Errors assume that the covariance matrix of the errors is correctly specified."
            ]
          },
          "metadata": {},
          "execution_count": 13
        }
      ]
    }
  ]
}